{
 "cells": [
  {
   "cell_type": "markdown",
   "id": "8818b145",
   "metadata": {},
   "source": [
    "# Resumos \n",
    "\n",
    "### Towards more realistic evaluations: The impact of label delays in malware detection pipelines\n",
    "\n",
    "Concluiram que, para mitigar os atrasos de label (rótulo) e o impacto negativo nas taxas de detecção causados pelo problema de atraso de label na detecção de malware, os pesquisadores defenderam a necessidade de se apoiar em pseudo-rótulos, o que lhes permitiu recuperar as taxas de detecção para valores próximos aos dos pipelines originais (reduzindo a perda de 70% para 30% nos experimentos).\n",
    "\n",
    "Repositório: https://github.com/marcusbotacin/ML.delay.experiments\n",
    "\n",
    "Link Artigo: https://www.sciencedirect.com/science/article/pii/S0167404824004279"
   ]
  },
  {
   "cell_type": "markdown",
   "id": "57a878dc",
   "metadata": {},
   "source": [
    "## Utilização das bibliotecas\n",
    "\n",
    "Python versão 3.10\n"
   ]
  },
  {
   "cell_type": "markdown",
   "id": "79567e1d",
   "metadata": {},
   "source": [
    "## Base de Dados"
   ]
  },
  {
   "cell_type": "code",
   "execution_count": null,
   "id": "f6f1df94",
   "metadata": {},
   "outputs": [],
   "source": []
  },
  {
   "cell_type": "markdown",
   "id": "8428609d",
   "metadata": {},
   "source": [
    "## Active Learning (AL)"
   ]
  },
  {
   "cell_type": "markdown",
   "id": "b02f880f",
   "metadata": {},
   "source": [
    "### Expected Model Change (EMC)\n",
    "\n",
    "O EMC seleciona a amostra cuja rotulagem causaria a maior mudança nos pesos (gradientes) do modelo. Se o modelo tem que se esforçar muito para incorporar um novo dado, esse dado é valioso. Isso garante que cada rótulo pago (custo) maximize o aprendizado do modelo."
   ]
  },
  {
   "cell_type": "code",
   "execution_count": null,
   "id": "58965589",
   "metadata": {},
   "outputs": [],
   "source": []
  },
  {
   "cell_type": "markdown",
   "id": "0b120ab6",
   "metadata": {},
   "source": [
    "### Budgeted Active Learning (BAL)\n",
    "\n",
    "O BAL não é um algoritmo de seleção, mas um quadro de gerenciamento. Seu objetivo é garantir que o Active Learning opere de forma sustentável, respeitando o limite (orçamento ou budget) de tempo, dinheiro ou amostras que podem ser rotuladas em um dado período de tempo (crucial em Data Streams)."
   ]
  },
  {
   "cell_type": "code",
   "execution_count": null,
   "id": "e84debf1",
   "metadata": {},
   "outputs": [],
   "source": []
  },
  {
   "cell_type": "markdown",
   "id": "e7885d0e",
   "metadata": {},
   "source": [
    "### Density-Weighted Methods\n",
    "\n",
    "Combina a Incerteza (o modelo está em dúvida) com a Densidade da amostra no espaço de features. Isso evita rotular anomalias únicas (outliers), que são incertas, mas de pouco valor para a fronteira de decisão principal. Ele busca amostras incertas que também são representativas de uma grande parte do Data Stream."
   ]
  },
  {
   "cell_type": "code",
   "execution_count": null,
   "id": "da724692",
   "metadata": {},
   "outputs": [],
   "source": []
  },
  {
   "cell_type": "markdown",
   "id": "7efac71c",
   "metadata": {},
   "source": [
    "## Semisupervisionado (SSL)"
   ]
  },
  {
   "cell_type": "markdown",
   "id": "e13b76bf",
   "metadata": {},
   "source": [
    "### Semi-supervised Multi-view Stream Cluster (SmSCluster)\n",
    "\n",
    "Estratégia especializada que usa técnicas de agrupamento (clustering) para dados de fluxo com poucos rótulos. Ele aproveita a similaridade dos dados (clusters) para propagar rótulos (ou pseudo-rótulos) dentro de grupos coesos."
   ]
  },
  {
   "cell_type": "code",
   "execution_count": null,
   "id": "d09bc635",
   "metadata": {},
   "outputs": [],
   "source": []
  },
  {
   "cell_type": "markdown",
   "id": "0f3c0c56",
   "metadata": {},
   "source": [
    "### Semi-Supervised Ensemble Algorithm\n",
    "\n",
    "Estrutura genérica que combina múltiplos classificadores (ensemble) e os treina usando uma mistura de dados rotulados e não rotulados. O foco é usar o consenso do ensemble para gerar pseudo-rótulos mais robustos (evitando erros de um único modelo)."
   ]
  },
  {
   "cell_type": "code",
   "execution_count": null,
   "id": "4f3ccfb1",
   "metadata": {},
   "outputs": [],
   "source": []
  },
  {
   "cell_type": "markdown",
   "id": "a819cbf8",
   "metadata": {},
   "source": [
    "### Online Semi-supervised Neural Network (OSNN)\n",
    "\n",
    "Um algoritmo que integra a capacidade de aprendizado incremental (Online Learning) com otimização semissupervisionada (geralmente usando o princípio de consistência ou propagação de rótulos) dentro de uma estrutura de Rede Neural (ex: RBF Network)."
   ]
  },
  {
   "cell_type": "code",
   "execution_count": null,
   "id": "b33817e6",
   "metadata": {},
   "outputs": [],
   "source": []
  },
  {
   "cell_type": "markdown",
   "id": "cf3c497e",
   "metadata": {},
   "source": [
    "## Concept Drift (CD)"
   ]
  },
  {
   "cell_type": "markdown",
   "id": "3cac6fc2",
   "metadata": {},
   "source": [
    "### Adaptive Windowing (ADWIN)\n",
    "\n",
    "Detector de mudança estatística que monitora o erro de classificação (ou a média das features) em uma janela de tamanho variável, adaptando-se rapidamente à mudança."
   ]
  },
  {
   "cell_type": "code",
   "execution_count": null,
   "id": "c04f9c25",
   "metadata": {},
   "outputs": [],
   "source": []
  },
  {
   "cell_type": "markdown",
   "id": "87e30230",
   "metadata": {},
   "source": [
    "### Kolmogorov-Smirnov Windowing (KSWIN)\n",
    "\n",
    "Detector que utiliza o teste estatístico de Kolmogorov-Smirnov para verificar se os dados de duas sub-janelas têm distribuições de probabilidade diferentes."
   ]
  },
  {
   "cell_type": "code",
   "execution_count": null,
   "id": "20f36abf",
   "metadata": {},
   "outputs": [],
   "source": []
  },
  {
   "cell_type": "markdown",
   "id": "21662250",
   "metadata": {},
   "source": [
    "### Drift Detection Method (DDM) e Early DDM (EDDM)\n",
    "\n",
    "DDM monitora o erro do classificador usando limites baseados na Desigualdade de Hoeffding; EDDM é uma variação otimizada para detectar drifts graduais ou lentos."
   ]
  },
  {
   "cell_type": "code",
   "execution_count": null,
   "id": "ef902890",
   "metadata": {},
   "outputs": [],
   "source": []
  },
  {
   "cell_type": "markdown",
   "id": "61515204",
   "metadata": {},
   "source": [
    "### Online Density Separation (ODS)\n",
    "\n",
    "Monitora a mudança na separação de densidade entre as classes. Tipicamente, utiliza um método não supervisionado (como Isolation Forest ou Autoencoders) para pontuar o quão anômalo é o tráfego atual. O drift é sinalizado quando a média dessas pontuações de anomalia muda."
   ]
  },
  {
   "cell_type": "code",
   "execution_count": null,
   "id": "95e0605b",
   "metadata": {},
   "outputs": [],
   "source": []
  },
  {
   "cell_type": "markdown",
   "id": "ce7119e4",
   "metadata": {},
   "source": [
    "## Online Machine Learning (OML)"
   ]
  },
  {
   "cell_type": "markdown",
   "id": "da1c0529",
   "metadata": {},
   "source": [
    "### Hoeffding Trees (HT) \n",
    "\n",
    "É um classificador de árvore de decisão incremental. Ele usa a Desigualdade de Hoeffding para decidir, com base em evidências estatísticas, o melhor momento para dividir um nó, garantindo que a árvore construída online seja similar àquela construída com todos os dados offline. É a base para muitos outros métodos de OML."
   ]
  },
  {
   "cell_type": "code",
   "execution_count": null,
   "id": "21ea6b39",
   "metadata": {},
   "outputs": [],
   "source": []
  },
  {
   "cell_type": "markdown",
   "id": "6eb53ec2",
   "metadata": {},
   "source": [
    "### Adaptive Random Forests (ARF)\n",
    "\n",
    "Um dos ensembles mais eficientes para Data Streams. Combina o Online Bagging com um mecanismo de substituição de árvores degradadas. Ele utiliza detectores de Concept Drift (como o ADWIN) para substituir sub-árvores que se tornaram obsoletas, permitindo rápida adaptação."
   ]
  },
  {
   "cell_type": "code",
   "execution_count": null,
   "id": "6c0091a3",
   "metadata": {},
   "outputs": [],
   "source": []
  },
  {
   "cell_type": "markdown",
   "id": "68b2523d",
   "metadata": {},
   "source": [
    "### OzaBagging\n",
    "\n",
    "Implementação do Online Bagging. Treina um ensemble (conjunto) de classificadores em diferentes subamostras (com reposição) do stream de dados. O OzaBagging e o Online Boosting mantêm a diversidade do ensemble e aumentam a acurácia em streams."
   ]
  },
  {
   "cell_type": "code",
   "execution_count": null,
   "id": "27dea4bb",
   "metadata": {},
   "outputs": [],
   "source": []
  },
  {
   "cell_type": "markdown",
   "id": "3fa93688",
   "metadata": {},
   "source": [
    "### Dynamic Weighted Majority (DWM)\n",
    "\n",
    "Estrutura que atribui pesos dinâmicos aos classificadores. O DWM ajusta os pesos dos modelos que erram e pode criar novos classificadores quando o ensemble atinge um erro alto (sinal de Concept Drift). É conhecido por sua capacidade de se adaptar a drifts abruptos."
   ]
  },
  {
   "cell_type": "code",
   "execution_count": null,
   "id": "af3dceb6",
   "metadata": {},
   "outputs": [],
   "source": []
  },
  {
   "cell_type": "markdown",
   "id": "d6f91c61",
   "metadata": {},
   "source": [
    "### Online Bagging with Active Learning (OBA)\n",
    "\n",
    "O OBA é uma variação do Online Bagging que integra a função de consulta do Active Learning. Ele usa o ensemble para determinar as amostras de dados de stream que mais beneficiarão o aprendizado se forem rotuladas por um especialista."
   ]
  },
  {
   "cell_type": "code",
   "execution_count": null,
   "id": "43a420bb",
   "metadata": {},
   "outputs": [],
   "source": []
  },
  {
   "cell_type": "markdown",
   "id": "9bfbe6dd",
   "metadata": {},
   "source": [
    "## Pipeline Inicial (HT+ADWIN+BAL+Pseudo Rotulagem por confiança)"
   ]
  },
  {
   "cell_type": "code",
   "execution_count": null,
   "id": "cf527f6d",
   "metadata": {},
   "outputs": [],
   "source": []
  }
 ],
 "metadata": {
  "language_info": {
   "name": "python"
  }
 },
 "nbformat": 4,
 "nbformat_minor": 5
}
