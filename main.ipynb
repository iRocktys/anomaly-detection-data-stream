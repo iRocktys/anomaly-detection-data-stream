{
 "cells": [
  {
   "cell_type": "markdown",
   "id": "10a70261",
   "metadata": {},
   "source": [
    "# Ambiente"
   ]
  },
  {
   "cell_type": "code",
   "execution_count": null,
   "id": "d54b1ff4",
   "metadata": {},
   "outputs": [],
   "source": [
    "# !pip install -r requirements.txt\n",
    "\n",
    "# import capymoa\n",
    "# print(capymoa.__version__)"
   ]
  },
  {
   "cell_type": "markdown",
   "id": "79567e1d",
   "metadata": {},
   "source": [
    "# Base de Dados"
   ]
  },
  {
   "cell_type": "markdown",
   "id": "10204aca",
   "metadata": {},
   "source": [
    "## CICDDoS2019"
   ]
  },
  {
   "cell_type": "code",
   "execution_count": null,
   "id": "bb3552fa",
   "metadata": {},
   "outputs": [],
   "source": []
  },
  {
   "cell_type": "markdown",
   "id": "a82bc7fe",
   "metadata": {},
   "source": [
    "## CICIDS2017"
   ]
  },
  {
   "cell_type": "code",
   "execution_count": null,
   "id": "e8b4a340",
   "metadata": {},
   "outputs": [],
   "source": []
  },
  {
   "cell_type": "markdown",
   "id": "d942251e",
   "metadata": {},
   "source": [
    "# Algoritmos"
   ]
  },
  {
   "cell_type": "markdown",
   "id": "9bfbe6dd",
   "metadata": {},
   "source": [
    "## LeveragingBagging\n",
    "\n",
    "https://capymoa.org/api/modules/capymoa.classifier.LeveragingBagging.html"
   ]
  },
  {
   "cell_type": "code",
   "execution_count": null,
   "id": "cf527f6d",
   "metadata": {},
   "outputs": [],
   "source": []
  },
  {
   "cell_type": "markdown",
   "id": "56360b06",
   "metadata": {},
   "source": [
    "## HoeffdingAdaptiveTree\n",
    "\n",
    "https://capymoa.org/api/modules/capymoa.classifier.HoeffdingAdaptiveTree.html"
   ]
  },
  {
   "cell_type": "markdown",
   "id": "16646744",
   "metadata": {},
   "source": []
  }
 ],
 "metadata": {
  "kernelspec": {
   "display_name": ".venv (3.10.0)",
   "language": "python",
   "name": "python3"
  },
  "language_info": {
   "codemirror_mode": {
    "name": "ipython",
    "version": 3
   },
   "file_extension": ".py",
   "mimetype": "text/x-python",
   "name": "python",
   "nbconvert_exporter": "python",
   "pygments_lexer": "ipython3",
   "version": "3.10.0"
  }
 },
 "nbformat": 4,
 "nbformat_minor": 5
}
